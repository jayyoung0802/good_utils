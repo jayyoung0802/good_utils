{
 "cells": [
  {
   "cell_type": "code",
   "execution_count": null,
   "id": "e070d56f-9cef-422e-9fd3-6955e937b63c",
   "metadata": {},
   "outputs": [],
   "source": [
    "import threading\n",
    "class Singleton(object):\n",
    "    _instance_lock = threading.Lock()\n",
    "\n",
    "    def __init__(self, *args, **kwargs):\n",
    "        pass\n",
    "\n",
    "    def __new__(cls, *args, **kwargs):\n",
    "        if not hasattr(cls, '_instance'):\n",
    "            with Singleton._instance_lock:\n",
    "                if not hasattr(cls, '_instance'):\n",
    "                    Singleton._instance = super().__new__(cls)\n",
    "            return Singleton._instance"
   ]
  },
  {
   "cell_type": "code",
   "execution_count": null,
   "id": "22cca53b-832a-4d56-bc7c-8f44a115d3c4",
   "metadata": {},
   "outputs": [],
   "source": [
    "obj1 = Singleton()\n",
    "obj2 = Singleton()\n",
    "print(obj1, obj2)\n",
    "\n",
    "def task(arg):\n",
    "    obj = Singleton()\n",
    "    print(obj)\n",
    "\n",
    "for i in range(10):\n",
    "    t = threading.Thread(target=task, args=[i, ])\n",
    "    t.start()"
   ]
  }
 ],
 "metadata": {
  "kernelspec": {
   "display_name": "py3.6",
   "language": "python",
   "name": "env_name"
  },
  "language_info": {
   "codemirror_mode": {
    "name": "ipython",
    "version": 3
   },
   "file_extension": ".py",
   "mimetype": "text/x-python",
   "name": "python",
   "nbconvert_exporter": "python",
   "pygments_lexer": "ipython3",
   "version": "3.6.13"
  }
 },
 "nbformat": 4,
 "nbformat_minor": 5
}
