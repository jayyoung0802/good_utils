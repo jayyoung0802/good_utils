{
 "cells": [
  {
   "cell_type": "code",
   "execution_count": null,
   "id": "601c5d08-edc4-4a81-bd4c-f5d69bc24112",
   "metadata": {},
   "outputs": [],
   "source": [
    "import time\n",
    "import torch"
   ]
  },
  {
   "cell_type": "code",
   "execution_count": null,
   "id": "0ba09e05-3a2e-4f8f-835b-db5bcf53faf2",
   "metadata": {},
   "outputs": [],
   "source": [
    "def Timer_cuda():\n",
    "    torch.cuda.synchronize()\n",
    "    t1 = time.time()\n",
    "    func()\n",
    "    torch.cuda.synchronize()\n",
    "    t2 = time.time()\n",
    "    print(t2-t1)"
   ]
  },
  {
   "cell_type": "code",
   "execution_count": null,
   "id": "d7b6635b-ba13-4549-810d-f660351ca98c",
   "metadata": {},
   "outputs": [],
   "source": [
    "def Timer_cpu():\n",
    "    t1 = time.time()\n",
    "    func()\n",
    "    t2 = time.time()\n",
    "    print(t2-t1)"
   ]
  }
 ],
 "metadata": {
  "kernelspec": {
   "display_name": "py3.6",
   "language": "python",
   "name": "env_name"
  },
  "language_info": {
   "codemirror_mode": {
    "name": "ipython",
    "version": 3
   },
   "file_extension": ".py",
   "mimetype": "text/x-python",
   "name": "python",
   "nbconvert_exporter": "python",
   "pygments_lexer": "ipython3",
   "version": "3.6.13"
  }
 },
 "nbformat": 4,
 "nbformat_minor": 5
}
