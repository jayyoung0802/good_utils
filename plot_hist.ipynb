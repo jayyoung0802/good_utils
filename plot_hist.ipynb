{
 "cells": [
  {
   "cell_type": "code",
   "execution_count": null,
   "id": "c19670d6-7948-463d-8795-fecb607494dc",
   "metadata": {},
   "outputs": [],
   "source": [
    "import matplotlib.pyplot as plt\n",
    "import numpy as np\n",
    "import matplotlib\n",
    "data = [0.001, 1, 0.00005, 0.34]\n",
    "bins = [0, 0.001, 0.002, 0.004, 0.006, 0.008, 0.01, 0.02, 0.04, 0.06, 0.08, 0.1, 1]  # your bins\n",
    "hist, bin_edges = np.histogram(data, bins)\n",
    "plt.bar(range(len(hist)), hist, facecolor='blue', width=1)\n",
    "plt.xticks([i + 0.5 for i in range(len(hist))], bins[1:])\n",
    "plt.xticks(rotation=90)\n",
    "plt.xlabel(\"interval\")\n",
    "plt.ylabel(\"times\")\n",
    "plt.title(\"vgpu frequency histogram\")"
   ]
  }
 ],
 "metadata": {
  "kernelspec": {
   "display_name": "py3.6",
   "language": "python",
   "name": "env_name"
  },
  "language_info": {
   "codemirror_mode": {
    "name": "ipython",
    "version": 3
   },
   "file_extension": ".py",
   "mimetype": "text/x-python",
   "name": "python",
   "nbconvert_exporter": "python",
   "pygments_lexer": "ipython3",
   "version": "3.6.13"
  }
 },
 "nbformat": 4,
 "nbformat_minor": 5
}
