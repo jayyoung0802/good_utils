{
 "cells": [
  {
   "cell_type": "code",
   "execution_count": null,
   "metadata": {},
   "outputs": [],
   "source": [
    "import time\n",
    "import torch\n",
    "import numpy as np"
   ]
  },
  {
   "cell_type": "code",
   "execution_count": null,
   "metadata": {},
   "outputs": [],
   "source": [
    "def fun():\n",
    "    arr= np.zeros((100,3, 300, 300), dtype=np.float32)\n",
    "    arr=arr-0.406\n",
    "    aaa=torch.from_numpy(arr)\n",
    "    aaa.add_(-0.406)\n",
    "while True:\n",
    "    torch.set_num_threads(4)\n",
    "    torch.cuda.synchronize()\n",
    "    t1 = time.time()\n",
    "    func()\n",
    "    torch.cuda.synchronize()\n",
    "    t2 = time.time()\n",
    "    print(t2-t1)"
   ]
  }
 ],
 "metadata": {
  "kernelspec": {
   "display_name": "r0.3.2",
   "language": "python",
   "name": "env_name"
  },
  "language_info": {
   "codemirror_mode": {
    "name": "ipython",
    "version": 3
   },
   "file_extension": ".py",
   "mimetype": "text/x-python",
   "name": "python",
   "nbconvert_exporter": "python",
   "pygments_lexer": "ipython3",
   "version": "3.6.9"
  }
 },
 "nbformat": 4,
 "nbformat_minor": 4
}
